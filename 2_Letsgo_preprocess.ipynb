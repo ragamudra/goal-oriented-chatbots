{
 "cells": [
  {
   "cell_type": "markdown",
   "metadata": {},
   "source": [
    "# Code 5-16 to Code 5-37"
   ]
  },
  {
   "cell_type": "markdown",
   "metadata": {},
   "source": [
    "For this exercise we are going to take a dialog dataset “Lets Go” bus dataset. The details of the dataset can be found https://dialrc.github.io/LetsGoDataset/ (Raux et al. 2005)Let’s Go was funded by the National Science Foundation. Have cleaned the dataset to represent a conversation format as show in \"Clean_lets_go.ipynb\""
   ]
  },
  {
   "cell_type": "code",
   "execution_count": 2,
   "metadata": {},
   "outputs": [],
   "source": [
    "import pandas as pd\n",
    "t2 = pd.read_csv(\"letsgo_op.csv\")"
   ]
  },
  {
   "cell_type": "code",
   "execution_count": 3,
   "metadata": {},
   "outputs": [
    {
     "data": {
      "text/html": [
       "<div>\n",
       "<style scoped>\n",
       "    .dataframe tbody tr th:only-of-type {\n",
       "        vertical-align: middle;\n",
       "    }\n",
       "\n",
       "    .dataframe tbody tr th {\n",
       "        vertical-align: top;\n",
       "    }\n",
       "\n",
       "    .dataframe thead th {\n",
       "        text-align: right;\n",
       "    }\n",
       "</style>\n",
       "<table border=\"1\" class=\"dataframe\">\n",
       "  <thead>\n",
       "    <tr style=\"text-align: right;\">\n",
       "      <th></th>\n",
       "      <th>Unnamed: 0</th>\n",
       "      <th>user_id</th>\n",
       "      <th>bot_text</th>\n",
       "      <th>cust_text</th>\n",
       "    </tr>\n",
       "  </thead>\n",
       "  <tbody>\n",
       "    <tr>\n",
       "      <th>0</th>\n",
       "      <td>0</td>\n",
       "      <td>2061123000</td>\n",
       "      <td>welcome to the cmu let's go bus information s...</td>\n",
       "      <td>penn at butler time is it is the centre at hig...</td>\n",
       "    </tr>\n",
       "    <tr>\n",
       "      <th>1</th>\n",
       "      <td>1</td>\n",
       "      <td>2061123000</td>\n",
       "      <td>leaving from oakland . is this correct?</td>\n",
       "      <td>oakland</td>\n",
       "    </tr>\n",
       "    <tr>\n",
       "      <th>2</th>\n",
       "      <td>2</td>\n",
       "      <td>2061123000</td>\n",
       "      <td>leaving from oakland . is this correct?</td>\n",
       "      <td>yes</td>\n",
       "    </tr>\n",
       "    <tr>\n",
       "      <th>3</th>\n",
       "      <td>3</td>\n",
       "      <td>2061123000</td>\n",
       "      <td>leaving from oakland . is this correct? right...</td>\n",
       "      <td>squirrel hill of fifth avenue</td>\n",
       "    </tr>\n",
       "    <tr>\n",
       "      <th>4</th>\n",
       "      <td>4</td>\n",
       "      <td>2061123000</td>\n",
       "      <td>going to fifth avenue . is this correct?</td>\n",
       "      <td>yes</td>\n",
       "    </tr>\n",
       "  </tbody>\n",
       "</table>\n",
       "</div>"
      ],
      "text/plain": [
       "   Unnamed: 0     user_id                                           bot_text  \\\n",
       "0           0  2061123000   welcome to the cmu let's go bus information s...   \n",
       "1           1  2061123000            leaving from oakland . is this correct?   \n",
       "2           2  2061123000            leaving from oakland . is this correct?   \n",
       "3           3  2061123000   leaving from oakland . is this correct? right...   \n",
       "4           4  2061123000           going to fifth avenue . is this correct?   \n",
       "\n",
       "                                           cust_text  \n",
       "0  penn at butler time is it is the centre at hig...  \n",
       "1                                            oakland  \n",
       "2                                                yes  \n",
       "3                      squirrel hill of fifth avenue  \n",
       "4                                                yes  "
      ]
     },
     "execution_count": 3,
     "metadata": {},
     "output_type": "execute_result"
    }
   ],
   "source": [
    "t2.head()"
   ]
  },
  {
   "cell_type": "code",
   "execution_count": 4,
   "metadata": {},
   "outputs": [
    {
     "data": {
      "text/plain": [
       "7760"
      ]
     },
     "execution_count": 4,
     "metadata": {},
     "output_type": "execute_result"
    }
   ],
   "source": [
    "len(t2)"
   ]
  },
  {
   "cell_type": "code",
   "execution_count": 5,
   "metadata": {},
   "outputs": [],
   "source": [
    "t2.loc[t2.cust_text.isna()==True,\"cust_text\"]=\"None\""
   ]
  },
  {
   "cell_type": "markdown",
   "metadata": {},
   "source": [
    "Given this data is about bus schedule customers would often use bus stop and place names. We took bus stop names of Pittsburg and added few more names to the list like - downtown, malls, college etc. We would use this file to replace some of the bus stop names with some common name to help in genearlization"
   ]
  },
  {
   "cell_type": "code",
   "execution_count": 6,
   "metadata": {},
   "outputs": [],
   "source": [
    "import numpy as np\n",
    "bus_sch = np.load(\"bus_stops.npz\",allow_pickle=True) #make sure you use the .npz!\n",
    "bus_sch1 = list(bus_sch['arr_0'])"
   ]
  },
  {
   "cell_type": "code",
   "execution_count": 23,
   "metadata": {},
   "outputs": [
    {
     "data": {
      "text/plain": [
       "['freeporroad',\n",
       " 'springarden',\n",
       " 'bellevue',\n",
       " 'shadeland',\n",
       " 'coraopolis',\n",
       " 'fairywood',\n",
       " 'banksville',\n",
       " 'bowehill',\n",
       " 'carrick',\n",
       " 'homesteaparlimited',\n",
       " 'hazelwood',\n",
       " 'nortbraddock',\n",
       " 'lawrenceville-waterfront',\n",
       " 'edgewootowcenter',\n",
       " 'hamilton',\n",
       " 'eashills',\n",
       " 'liberty',\n",
       " 'butlestreet',\n",
       " 'bridgevillflyer',\n",
       " 'easbusway-alstops',\n",
       " 'penhillflyer',\n",
       " 'monroevillflyer',\n",
       " 'swissvalflyer',\n",
       " 'baldwimanoflyer',\n",
       " 'mounroyal',\n",
       " 'perrysville',\n",
       " 'ohivalley',\n",
       " 'manchester',\n",
       " 'mccoy',\n",
       " 'airporflyer',\n",
       " 'greetree',\n",
       " 'bailey',\n",
       " 'carriclimited',\n",
       " 'nortside-oakland-soutside',\n",
       " 'greenfield',\n",
       " 'braddock-swissvale',\n",
       " 'squirrehill',\n",
       " 'negley',\n",
       " 'homewood-squirrehill',\n",
       " 'oahill',\n",
       " 'friendship',\n",
       " 'lawrenceville-hazelwood',\n",
       " 'rosflyer',\n",
       " 'alleghenvalleflyer',\n",
       " 'lincolparflyer',\n",
       " 'braddochillflyer',\n",
       " 'lincolhighwaflyer',\n",
       " 'elizabetflyer',\n",
       " 'trohill',\n",
       " 'fineview',\n",
       " 'charles',\n",
       " 'emswortlimited',\n",
       " 'wespark',\n",
       " 'robinson',\n",
       " 'brookline',\n",
       " 'knoxville',\n",
       " 'homevilllimited',\n",
       " 'glassport',\n",
       " 'movalley',\n",
       " 'mckeesport-homestead',\n",
       " 'monroeville',\n",
       " 'highlanpark',\n",
       " 'ellsworth',\n",
       " 'lincoln',\n",
       " 'penn',\n",
       " 'wesbusway',\n",
       " 'mcknighflyer',\n",
       " 'holidaparflyer',\n",
       " 'easbuswashort',\n",
       " 'trafforflyer',\n",
       " 'oakmonflyer',\n",
       " 'currflyer',\n",
       " 'sprinhill',\n",
       " 'mcknight',\n",
       " 'brighton',\n",
       " 'kennedy',\n",
       " 'chartiers',\n",
       " 'bridgeville',\n",
       " 'mounwashington',\n",
       " 'arlington',\n",
       " 'homesteapark',\n",
       " 'lincolplace',\n",
       " 'walnut-crawforvillage',\n",
       " 'murray',\n",
       " 'trafford',\n",
       " 'poinbreeze',\n",
       " 'penhills',\n",
       " 'bedforhill',\n",
       " 'garfielcommons',\n",
       " 'mooflyer',\n",
       " 'thompsoruflyer',\n",
       " 'mounroyaflyer',\n",
       " 'easbusway-oakland',\n",
       " 'mckeesporflyer',\n",
       " 'largflyer',\n",
       " 'prospecflyer',\n",
       " ' lawrenceville',\n",
       " 'waterfront',\n",
       " 'easbusway',\n",
       " 'alstops',\n",
       " ' nortside',\n",
       " 'oakland',\n",
       " 'soutside',\n",
       " 'braddock',\n",
       " 'swissvale',\n",
       " ' homewood',\n",
       " 'squirrehill',\n",
       " ' lawrenceville',\n",
       " 'hazelwood',\n",
       " 'mckeesport',\n",
       " 'homestead',\n",
       " ' walnut',\n",
       " 'crawforvillage',\n",
       " 'easbusway',\n",
       " 'oakland',\n",
       " 'downtown',\n",
       " 'uptown',\n",
       " 'building',\n",
       " 'airport',\n",
       " 'station',\n",
       " 'avenue',\n",
       " 'carnegimellon',\n",
       " 'bloomfield',\n",
       " 'allegheny',\n",
       " 'street',\n",
       " 'park',\n",
       " 'boulevard']"
      ]
     },
     "execution_count": 23,
     "metadata": {},
     "output_type": "execute_result"
    }
   ],
   "source": [
    "bus_sch1"
   ]
  },
  {
   "cell_type": "markdown",
   "metadata": {},
   "source": [
    "Replacing some common sentences in the bot_text"
   ]
  },
  {
   "cell_type": "code",
   "execution_count": 24,
   "metadata": {},
   "outputs": [],
   "source": [
    "string_repl = \"welcome to the cmu let's go bus information system.  to get help at any time, just say help or press zero. what can i do for you?  i am an automated spoken dialogue system that can give you schedule information for bus routes in pittsburgh's east end. you can ask me about the following buses: 28x, 54c, 56u, 59u, 61a, 61b, 61c, 61d, 61f, 64a, 69a, and 501. what bus schedule information are you looking for? for example, you can say, when is the next 28x from downtown to the airport? or i'd like to go from mckeesport to homestead tomorrow at 10 a.m.\"\n",
    "t2[\"bot_text\"] = t2[\"bot_text\"].str.replace(\"welcome.*mckeesport to homestead.*automated spoken dialogue.*\",\"greeting_templ\")\n",
    "t2[\"trim_bot_txt\"] = t2[\"bot_text\"].str.replace('goodbye.*','goodbye')"
   ]
  },
  {
   "cell_type": "markdown",
   "metadata": {},
   "source": [
    "\n",
    "Now we will replace the place names in cust_text and bot_text using the bus_sch1 list with the function in Code 19 -  repl_place_bus using “fuzz.ratio” between words in the sentences and bus_sch1.”fuzz.ratio” calculates the similarity between strings using Levenshtein Distance (minimum number of single character edits required to change one word to another). “fuzzywuzzy” is the package used to calculate “fuzz.ratio”. You can “pip” install “fuzzywuzzy”\n"
   ]
  },
  {
   "cell_type": "code",
   "execution_count": 25,
   "metadata": {},
   "outputs": [],
   "source": [
    "from fuzzywuzzy import fuzz \n",
    "str_list = []\n",
    "def repl_place_bus(row,req_col):\n",
    "    #for i,row in t2.iterrows():\n",
    "    ctext = row[req_col]\n",
    "    fg=0\n",
    "    str1=ctext\n",
    "\n",
    "    try:\n",
    "        for j in ctext.split():\n",
    "\n",
    "            for k in bus_sch1:\n",
    "                score = fuzz.ratio(j,k )\n",
    "                if(score>=70):\n",
    "                    #print (i,j,k)\n",
    "                    fg=1\n",
    "                    break;\n",
    "            #if(fg==1):\n",
    "                #break;\n",
    "            if(fg==1):\n",
    "                fg=0\n",
    "                str1 = str1.replace(j,\" place_name \")\n",
    "\n",
    "    except:\n",
    "        print (j,i)\n",
    "    #str_list.append(str1)\n",
    "        \n",
    "    return str1"
   ]
  },
  {
   "cell_type": "markdown",
   "metadata": {},
   "source": [
    "We have 7000+ rows. In each row we are iterating through the words in the sentences. This would increase the run-time very much. Inorder to run it faster, we will be applying the functions on parallelization in python. We would run the function simultanelusly across multiple “processes” using a library called “joblib”. The “n_jobs” parameter provides the number of processes that are going to be run in parallel."
   ]
  },
  {
   "cell_type": "markdown",
   "metadata": {},
   "source": [
    "Applying the function for customer text"
   ]
  },
  {
   "cell_type": "code",
   "execution_count": 26,
   "metadata": {},
   "outputs": [
    {
     "name": "stderr",
     "output_type": "stream",
     "text": [
      "[Parallel(n_jobs=12)]: Using backend ThreadingBackend with 12 concurrent workers.\n",
      "[Parallel(n_jobs=12)]: Done  26 tasks      | elapsed:    1.0s\n",
      "[Parallel(n_jobs=12)]: Done 176 tasks      | elapsed:    2.6s\n",
      "[Parallel(n_jobs=12)]: Done 426 tasks      | elapsed:    4.9s\n",
      "[Parallel(n_jobs=12)]: Done 776 tasks      | elapsed:    8.2s\n",
      "[Parallel(n_jobs=12)]: Done 1226 tasks      | elapsed:   11.5s\n",
      "[Parallel(n_jobs=12)]: Done 1776 tasks      | elapsed:   17.1s\n",
      "[Parallel(n_jobs=12)]: Done 2426 tasks      | elapsed:   22.6s\n",
      "[Parallel(n_jobs=12)]: Done 3176 tasks      | elapsed:   29.2s\n",
      "[Parallel(n_jobs=12)]: Done 4026 tasks      | elapsed:   37.8s\n",
      "[Parallel(n_jobs=12)]: Done 4976 tasks      | elapsed:   46.2s\n",
      "[Parallel(n_jobs=12)]: Done 6026 tasks      | elapsed:   55.6s\n",
      "[Parallel(n_jobs=12)]: Done 7176 tasks      | elapsed:  1.2min\n",
      "[Parallel(n_jobs=12)]: Done 7760 out of 7760 | elapsed:  1.3min finished\n"
     ]
    }
   ],
   "source": [
    "from joblib import Parallel, delayed\n",
    "com0 = Parallel(n_jobs=12, backend=\"threading\",verbose=1)(delayed(repl_place_bus)(row,\"cust_text\") for i,row in t2.iterrows())"
   ]
  },
  {
   "cell_type": "markdown",
   "metadata": {},
   "source": [
    "Applying the function for bot text"
   ]
  },
  {
   "cell_type": "code",
   "execution_count": 27,
   "metadata": {},
   "outputs": [
    {
     "name": "stderr",
     "output_type": "stream",
     "text": [
      "[Parallel(n_jobs=12)]: Using backend ThreadingBackend with 12 concurrent workers.\n",
      "[Parallel(n_jobs=12)]: Done  26 tasks      | elapsed:    1.9s\n",
      "[Parallel(n_jobs=12)]: Done 176 tasks      | elapsed:   14.8s\n",
      "[Parallel(n_jobs=12)]: Done 426 tasks      | elapsed:   43.1s\n",
      "[Parallel(n_jobs=12)]: Done 776 tasks      | elapsed:  1.2min\n",
      "[Parallel(n_jobs=12)]: Done 1226 tasks      | elapsed:  1.7min\n",
      "[Parallel(n_jobs=12)]: Done 1776 tasks      | elapsed:  2.3min\n",
      "[Parallel(n_jobs=12)]: Done 2426 tasks      | elapsed:  3.1min\n",
      "[Parallel(n_jobs=12)]: Done 3176 tasks      | elapsed:  3.9min\n",
      "[Parallel(n_jobs=12)]: Done 4026 tasks      | elapsed:  5.0min\n",
      "[Parallel(n_jobs=12)]: Done 4976 tasks      | elapsed:  6.2min\n",
      "[Parallel(n_jobs=12)]: Done 6026 tasks      | elapsed:  7.5min\n",
      "[Parallel(n_jobs=12)]: Done 7176 tasks      | elapsed:  8.9min\n",
      "[Parallel(n_jobs=12)]: Done 7760 out of 7760 | elapsed:  9.6min finished\n"
     ]
    }
   ],
   "source": [
    "bot_list = Parallel(n_jobs=12, backend=\"threading\",verbose=1)(delayed(repl_place_bus)(row,\"trim_bot_txt\") for i,row in t2.iterrows())"
   ]
  },
  {
   "cell_type": "code",
   "execution_count": 28,
   "metadata": {},
   "outputs": [
    {
     "data": {
      "text/plain": [
       "(7760, 7760, 7760)"
      ]
     },
     "execution_count": 28,
     "metadata": {},
     "output_type": "execute_result"
    }
   ],
   "source": [
    "len(com0),len(t2),len(bot_list)"
   ]
  },
  {
   "cell_type": "code",
   "execution_count": 29,
   "metadata": {},
   "outputs": [
    {
     "data": {
      "text/html": [
       "<div>\n",
       "<style scoped>\n",
       "    .dataframe tbody tr th:only-of-type {\n",
       "        vertical-align: middle;\n",
       "    }\n",
       "\n",
       "    .dataframe tbody tr th {\n",
       "        vertical-align: top;\n",
       "    }\n",
       "\n",
       "    .dataframe thead th {\n",
       "        text-align: right;\n",
       "    }\n",
       "</style>\n",
       "<table border=\"1\" class=\"dataframe\">\n",
       "  <thead>\n",
       "    <tr style=\"text-align: right;\">\n",
       "      <th></th>\n",
       "      <th>Unnamed: 0</th>\n",
       "      <th>user_id</th>\n",
       "      <th>bot_text</th>\n",
       "      <th>cust_text</th>\n",
       "      <th>trim_bot_txt</th>\n",
       "    </tr>\n",
       "  </thead>\n",
       "  <tbody>\n",
       "    <tr>\n",
       "      <th>0</th>\n",
       "      <td>0</td>\n",
       "      <td>2061123000</td>\n",
       "      <td>welcome to the cmu let's go bus information s...</td>\n",
       "      <td>penn at butler time is it is the centre at hig...</td>\n",
       "      <td>welcome to the cmu let's go bus information s...</td>\n",
       "    </tr>\n",
       "    <tr>\n",
       "      <th>1</th>\n",
       "      <td>1</td>\n",
       "      <td>2061123000</td>\n",
       "      <td>leaving from oakland . is this correct?</td>\n",
       "      <td>oakland</td>\n",
       "      <td>leaving from oakland . is this correct?</td>\n",
       "    </tr>\n",
       "    <tr>\n",
       "      <th>2</th>\n",
       "      <td>2</td>\n",
       "      <td>2061123000</td>\n",
       "      <td>leaving from oakland . is this correct?</td>\n",
       "      <td>yes</td>\n",
       "      <td>leaving from oakland . is this correct?</td>\n",
       "    </tr>\n",
       "    <tr>\n",
       "      <th>3</th>\n",
       "      <td>3</td>\n",
       "      <td>2061123000</td>\n",
       "      <td>leaving from oakland . is this correct? right...</td>\n",
       "      <td>squirrel hill of fifth avenue</td>\n",
       "      <td>leaving from oakland . is this correct? right...</td>\n",
       "    </tr>\n",
       "    <tr>\n",
       "      <th>4</th>\n",
       "      <td>4</td>\n",
       "      <td>2061123000</td>\n",
       "      <td>going to fifth avenue . is this correct?</td>\n",
       "      <td>yes</td>\n",
       "      <td>going to fifth avenue . is this correct?</td>\n",
       "    </tr>\n",
       "  </tbody>\n",
       "</table>\n",
       "</div>"
      ],
      "text/plain": [
       "   Unnamed: 0     user_id                                           bot_text  \\\n",
       "0           0  2061123000   welcome to the cmu let's go bus information s...   \n",
       "1           1  2061123000            leaving from oakland . is this correct?   \n",
       "2           2  2061123000            leaving from oakland . is this correct?   \n",
       "3           3  2061123000   leaving from oakland . is this correct? right...   \n",
       "4           4  2061123000           going to fifth avenue . is this correct?   \n",
       "\n",
       "                                           cust_text  \\\n",
       "0  penn at butler time is it is the centre at hig...   \n",
       "1                                            oakland   \n",
       "2                                                yes   \n",
       "3                      squirrel hill of fifth avenue   \n",
       "4                                                yes   \n",
       "\n",
       "                                        trim_bot_txt  \n",
       "0   welcome to the cmu let's go bus information s...  \n",
       "1            leaving from oakland . is this correct?  \n",
       "2            leaving from oakland . is this correct?  \n",
       "3   leaving from oakland . is this correct? right...  \n",
       "4           going to fifth avenue . is this correct?  "
      ]
     },
     "execution_count": 29,
     "metadata": {},
     "output_type": "execute_result"
    }
   ],
   "source": [
    "t2.head()"
   ]
  },
  {
   "cell_type": "code",
   "execution_count": 30,
   "metadata": {},
   "outputs": [],
   "source": [
    "t2[\"corrected_cust\"] = com0\n",
    "t2[\"corrected_bot\"] = bot_list"
   ]
  },
  {
   "cell_type": "markdown",
   "metadata": {},
   "source": [
    "The columns “corrected_cust” and “corrected_bot” contains the replaced sentences. We will now do the following preprocesses - directions (since its a bus booking), normalizing am/pm, replacing number words to numbers, bus names (like 8a,11c etc), time, replacing numbers"
   ]
  },
  {
   "cell_type": "code",
   "execution_count": 31,
   "metadata": {},
   "outputs": [],
   "source": [
    "direct_list = ['east','west','north','south']"
   ]
  },
  {
   "cell_type": "code",
   "execution_count": 32,
   "metadata": {},
   "outputs": [],
   "source": [
    "def am_pm_direct_repl(t2,col):\n",
    "    t2[col] = t2[col].str.replace('p.m','pm')\n",
    "    t2[col] = t2[col].str.replace('p m','pm')\n",
    "    t2[col] = t2[col].str.replace('a.m','am')\n",
    "    t2[col] = t2[col].str.replace('a m','am')\n",
    "    \n",
    "    for i in direct_list:\n",
    "        t2[col] = t2[col].str.replace(i,' direction ')\n",
    "   \n",
    "    return t2"
   ]
  },
  {
   "cell_type": "code",
   "execution_count": 34,
   "metadata": {},
   "outputs": [],
   "source": [
    "t3 =  am_pm_direct_repl(t2,\"corrected_cust\")\n",
    "t3 =  am_pm_direct_repl(t2,\"corrected_bot\")"
   ]
  },
  {
   "cell_type": "markdown",
   "metadata": {},
   "source": [
    "The following function using “num2words” package gets numeric numbers for number-words like “one”, “two”, “three” etc. We then use this to replace our sentences with the right numbers. We would be replacing “th” words. For eg -fifth avenue gets replaced with “num_th”."
   ]
  },
  {
   "cell_type": "code",
   "execution_count": 35,
   "metadata": {},
   "outputs": [
    {
     "name": "stdout",
     "output_type": "stream",
     "text": [
      "['zero', 'one', 'two', 'three', 'four']\n",
      "['zeroth', 'first', 'second', 'third', 'fourth']\n"
     ]
    }
   ],
   "source": [
    "from num2words import num2words\n",
    "word_num_list = []\n",
    "word_num_th_list = []\n",
    "for i in range(0,100):\n",
    "    word_num_list.append(num2words(i))\n",
    "    word_num_th_list.append(num2words(i,to='ordinal'))\n",
    "\n",
    "print (word_num_list[0:5])\n",
    "print (word_num_th_list[0:5])"
   ]
  },
  {
   "cell_type": "code",
   "execution_count": 36,
   "metadata": {},
   "outputs": [],
   "source": [
    "def repl_num_words(t2,col):\n",
    "    for num,i in enumerate(word_num_th_list):\n",
    "        t2[col] = t2[col].str.replace(i,\"num_th\")\n",
    "        t2[col] = t2[col].str.replace(word_num_list[num],str(num))\n",
    "    return t2"
   ]
  },
  {
   "cell_type": "code",
   "execution_count": 37,
   "metadata": {},
   "outputs": [],
   "source": [
    "t4 =  repl_num_words(t3,\"corrected_cust\")\n",
    "t4 =  repl_num_words(t3,\"corrected_bot\")"
   ]
  },
  {
   "cell_type": "markdown",
   "metadata": {},
   "source": [
    "Replacing bus and time names herewith"
   ]
  },
  {
   "cell_type": "code",
   "execution_count": 38,
   "metadata": {},
   "outputs": [],
   "source": [
    "t4[\"corrected_cust\"] = t4[\"corrected_cust\"].str.replace('[0-9]{1,2}[a-z]{1,2}','bus_name')\n",
    "t4[\"corrected_cust\"] = t4[\"corrected_cust\"].str.replace('[0-9]{1,2}[\\.\\s]*[0-9]{1,2}[\\s]*pm','time_name')\n",
    "t4[\"corrected_cust\"] = t4[\"corrected_cust\"].str.replace('[0-9]{1,2}[\\.\\s]*[0-9]{1,2}[\\s]*am','time_name')\n",
    "\n",
    "t4[\"corrected_bot\"] = t4[\"corrected_bot\"].str.replace('[0-9]{1,2}[a-z]{1,2}','bus_name')\n",
    "t4[\"corrected_bot\"] = t4[\"corrected_bot\"].str.replace('[0-9]{1,2}[\\.\\s]*[0-9]{0,2}[\\s]*pm','time_name')\n",
    "t4[\"corrected_bot\"] = t4[\"corrected_bot\"].str.replace('[0-9]{1,2}[\\.\\s]*[0-9]{0,2}[\\s]*am','time_name')"
   ]
  },
  {
   "cell_type": "markdown",
   "metadata": {},
   "source": [
    "Next  we replace special characters and split the bot sentences with a sentence separator “sep_sent”. This will help us to “templatize” each of the bot sentences and generate these templates from the decoder  later"
   ]
  },
  {
   "cell_type": "code",
   "execution_count": 39,
   "metadata": {},
   "outputs": [],
   "source": [
    "t4[\"corrected_bot1\"] = t4[\"corrected_bot\"].str.replace('\\xa0','')\n",
    "t4[\"corrected_bot1\"] = t4[\"corrected_bot1\"].str.replace('[^a-z0-9\\s\\.\\?]+','')\n",
    "t4[\"corrected_bot1\"] = t4[\"corrected_bot1\"].str.replace('[0-9]{1,3}',' short_num ')\n",
    "t4[\"corrected_bot1\"] = t4[\"corrected_bot1\"].str.replace('[0-9]{4,}',' long_num ')\n",
    "\n",
    "t4[\"corrected_bot1\"] = t4[\"corrected_bot1\"].str.replace('(\\.\\s){1,3}',' sep_sent ')\n",
    "t4[\"corrected_bot1\"] = t4[\"corrected_bot1\"].str.replace('(\\.){1,3}',' sep_sent ')\n",
    "t4[\"corrected_bot1\"] = t4[\"corrected_bot1\"].str.replace('\\?',' sep_sent ')\n",
    "t4[\"corrected_bot1\"] = t4[\"corrected_bot1\"].str.replace('(sep_sent )+',' sep_sent ')\n",
    "\n"
   ]
  },
  {
   "cell_type": "markdown",
   "metadata": {},
   "source": [
    "Replacing special characters in customer sentences. This is done in order to decrease the sparsity of the data. For example  - consider 2 sentences - “is this correct...” and “is this correct”. The word “correct” is same except in both cases – except one has 3 dots and the other has none. When we tokenize we want to make sure that these 2 words are treated the same "
   ]
  },
  {
   "cell_type": "code",
   "execution_count": 40,
   "metadata": {},
   "outputs": [],
   "source": [
    "t4[\"corrected_cust\"] = t4[\"corrected_cust\"].str.replace('(\\.\\s){1,3}',' ')\n",
    "t4[\"corrected_cust\"] = t4[\"corrected_cust\"].str.replace('(\\.){1,3}',' ')"
   ]
  },
  {
   "cell_type": "code",
   "execution_count": 41,
   "metadata": {},
   "outputs": [
    {
     "name": "stderr",
     "output_type": "stream",
     "text": [
      "C:\\Users\\user\\Anaconda2\\envs\\py36\\lib\\site-packages\\pandas\\io\\clipboards.py:127: FutureWarning: The signature of `Series.to_csv` was aligned to that of `DataFrame.to_csv`, and argument 'header' will change its default value from False to True: please pass an explicit value to suppress this warning.\n",
      "  obj.to_csv(buf, sep=sep, encoding='utf-8', **kwargs)\n"
     ]
    }
   ],
   "source": [
    "t4[\"corrected_cust\"].to_clipboard()"
   ]
  },
  {
   "cell_type": "code",
   "execution_count": 42,
   "metadata": {},
   "outputs": [
    {
     "data": {
      "text/plain": [
       "2447"
      ]
     },
     "execution_count": 42,
     "metadata": {},
     "output_type": "execute_result"
    }
   ],
   "source": [
    "\n",
    "len(t3[\"corrected_bot\"].value_counts())"
   ]
  },
  {
   "cell_type": "markdown",
   "metadata": {},
   "source": [
    "Since we have taken a corpus which is an interaction between a bot and customer, some of the sentences are repetitive across different conversations. Given the nature of customer service data even if it had been a human to human conversation, there would be a good amount of repetitive sentences used across different dialogues. These repetitive sentences can be converted to “templates”. "
   ]
  },
  {
   "cell_type": "code",
   "execution_count": 43,
   "metadata": {},
   "outputs": [],
   "source": [
    "templ = pd.DataFrame(t4[\"corrected_bot1\"].value_counts()).reset_index()\n",
    "templ.columns = [\"sents\",\"count\"]"
   ]
  },
  {
   "cell_type": "code",
   "execution_count": 44,
   "metadata": {},
   "outputs": [
    {
     "data": {
      "text/html": [
       "<div>\n",
       "<style scoped>\n",
       "    .dataframe tbody tr th:only-of-type {\n",
       "        vertical-align: middle;\n",
       "    }\n",
       "\n",
       "    .dataframe tbody tr th {\n",
       "        vertical-align: top;\n",
       "    }\n",
       "\n",
       "    .dataframe thead th {\n",
       "        text-align: right;\n",
       "    }\n",
       "</style>\n",
       "<table border=\"1\" class=\"dataframe\">\n",
       "  <thead>\n",
       "    <tr style=\"text-align: right;\">\n",
       "      <th></th>\n",
       "      <th>sents</th>\n",
       "      <th>count</th>\n",
       "    </tr>\n",
       "  </thead>\n",
       "  <tbody>\n",
       "    <tr>\n",
       "      <th>0</th>\n",
       "      <td>welcome to the cmu lets go bus information sys...</td>\n",
       "      <td>315</td>\n",
       "    </tr>\n",
       "    <tr>\n",
       "      <th>1</th>\n",
       "      <td>you can say when is the next bus when is the p...</td>\n",
       "      <td>244</td>\n",
       "    </tr>\n",
       "    <tr>\n",
       "      <th>2</th>\n",
       "      <td>for example you can say when is the next busna...</td>\n",
       "      <td>176</td>\n",
       "    </tr>\n",
       "    <tr>\n",
       "      <th>3</th>\n",
       "      <td>welcome to the cmu lets go bus information sy...</td>\n",
       "      <td>175</td>\n",
       "    </tr>\n",
       "    <tr>\n",
       "      <th>4</th>\n",
       "      <td>leaving at timename  sep_sent did i get that  ...</td>\n",
       "      <td>162</td>\n",
       "    </tr>\n",
       "  </tbody>\n",
       "</table>\n",
       "</div>"
      ],
      "text/plain": [
       "                                               sents  count\n",
       "0  welcome to the cmu lets go bus information sys...    315\n",
       "1  you can say when is the next bus when is the p...    244\n",
       "2  for example you can say when is the next busna...    176\n",
       "3   welcome to the cmu lets go bus information sy...    175\n",
       "4  leaving at timename  sep_sent did i get that  ...    162"
      ]
     },
     "execution_count": 44,
     "metadata": {},
     "output_type": "execute_result"
    }
   ],
   "source": [
    "templ.head()"
   ]
  },
  {
   "cell_type": "markdown",
   "metadata": {},
   "source": [
    "Getting all the unique sentences into a list. Remaking the list into a dataframe to assign each sentence to a template id"
   ]
  },
  {
   "cell_type": "code",
   "execution_count": 45,
   "metadata": {},
   "outputs": [],
   "source": [
    "df = templ.sents.str.split(\"sep_sent\",expand=True)\n",
    "sents_all = []\n",
    "for i in df.columns:\n",
    "    l1 = list(df[i].unique())\n",
    "    sents_all = sents_all + l1\n",
    "sents_all1 = set(sents_all)\n",
    "\n",
    "sents_all_df = pd.DataFrame(sents_all1)\n",
    "sents_all_df.columns = [\"sent\"]\n",
    "sents_all_df[\"ind\"] = sents_all_df.index\n",
    "sents_all_df[\"ind\"] = \"templ_\" + sents_all_df[\"ind\"].astype('str')"
   ]
  },
  {
   "cell_type": "code",
   "execution_count": 46,
   "metadata": {},
   "outputs": [
    {
     "data": {
      "text/html": [
       "<div>\n",
       "<style scoped>\n",
       "    .dataframe tbody tr th:only-of-type {\n",
       "        vertical-align: middle;\n",
       "    }\n",
       "\n",
       "    .dataframe tbody tr th {\n",
       "        vertical-align: top;\n",
       "    }\n",
       "\n",
       "    .dataframe thead th {\n",
       "        text-align: right;\n",
       "    }\n",
       "</style>\n",
       "<table border=\"1\" class=\"dataframe\">\n",
       "  <thead>\n",
       "    <tr style=\"text-align: right;\">\n",
       "      <th></th>\n",
       "      <th>sent</th>\n",
       "      <th>ind</th>\n",
       "    </tr>\n",
       "  </thead>\n",
       "  <tbody>\n",
       "    <tr>\n",
       "      <th>0</th>\n",
       "      <td>and arrives at numth  placename  at grant at...</td>\n",
       "      <td>templ_0</td>\n",
       "    </tr>\n",
       "    <tr>\n",
       "      <th>1</th>\n",
       "      <td>if you  placename  to leave from wilkinsburg ...</td>\n",
       "      <td>templ_1</td>\n",
       "    </tr>\n",
       "    <tr>\n",
       "      <th>2</th>\n",
       "      <td>for example you can say  short_num  short_num ...</td>\n",
       "      <td>templ_2</td>\n",
       "    </tr>\n",
       "    <tr>\n",
       "      <th>3</th>\n",
       "      <td>leaving from cmu</td>\n",
       "      <td>templ_3</td>\n",
       "    </tr>\n",
       "    <tr>\n",
       "      <th>4</th>\n",
       "      <td>and arrives at numth  placename  at grant at ...</td>\n",
       "      <td>templ_4</td>\n",
       "    </tr>\n",
       "  </tbody>\n",
       "</table>\n",
       "</div>"
      ],
      "text/plain": [
       "                                                sent      ind\n",
       "0    and arrives at numth  placename  at grant at...  templ_0\n",
       "1   if you  placename  to leave from wilkinsburg ...  templ_1\n",
       "2  for example you can say  short_num  short_num ...  templ_2\n",
       "3                                leaving from cmu     templ_3\n",
       "4   and arrives at numth  placename  at grant at ...  templ_4"
      ]
     },
     "execution_count": 46,
     "metadata": {},
     "output_type": "execute_result"
    }
   ],
   "source": [
    "sents_all_df.head()"
   ]
  },
  {
   "cell_type": "code",
   "execution_count": 47,
   "metadata": {},
   "outputs": [],
   "source": [
    "sents_all_df.to_clipboard()"
   ]
  },
  {
   "cell_type": "code",
   "execution_count": 48,
   "metadata": {},
   "outputs": [],
   "source": [
    "sents_all_df[\"cnt\"]  = sents_all_df[\"sent\"].str.count(\" \")"
   ]
  },
  {
   "cell_type": "code",
   "execution_count": 49,
   "metadata": {},
   "outputs": [
    {
     "data": {
      "text/plain": [
       "count    1503.000000\n",
       "mean       14.242848\n",
       "std         7.610017\n",
       "min         0.000000\n",
       "25%         8.000000\n",
       "50%        13.000000\n",
       "75%        19.000000\n",
       "max        47.000000\n",
       "Name: cnt, dtype: float64"
      ]
     },
     "execution_count": 49,
     "metadata": {},
     "output_type": "execute_result"
    }
   ],
   "source": [
    "sents_all_df[\"cnt\"].describe()"
   ]
  },
  {
   "cell_type": "markdown",
   "metadata": {},
   "source": [
    "Now we take our original dataset of t4 and assign different sentences to the template ids. First we create a dictionary with sentences as the keys and template ids"
   ]
  },
  {
   "cell_type": "code",
   "execution_count": 50,
   "metadata": {},
   "outputs": [],
   "source": [
    "sent_all_df1 = sents_all_df.loc[:,[\"sent\",\"ind\"]]\n",
    "df_sents = sent_all_df1.set_index('sent').T.to_dict('list')"
   ]
  },
  {
   "cell_type": "code",
   "execution_count": 51,
   "metadata": {},
   "outputs": [],
   "source": [
    "t4[\"corrected_bots_sents\"] = t4[\"corrected_bot1\"].str.split(\"sep_sent\")\n",
    "\n",
    "index_list=[]\n",
    "for i, row in t4.iterrows():\n",
    "    sent_list = row[\"corrected_bots_sents\"]\n",
    "    str_index = \"\"\n",
    "    for j in sent_list:\n",
    "        if(len(j)>=3):\n",
    "            str_index = str_index + \" \"  + str(df_sents[j][0])\n",
    "    index_list.append(str_index)\n",
    "    "
   ]
  },
  {
   "cell_type": "code",
   "execution_count": 52,
   "metadata": {},
   "outputs": [],
   "source": [
    "t4[\"bots_templ_list\"] = index_list"
   ]
  },
  {
   "cell_type": "code",
   "execution_count": 55,
   "metadata": {},
   "outputs": [
    {
     "data": {
      "text/html": [
       "<div>\n",
       "<style scoped>\n",
       "    .dataframe tbody tr th:only-of-type {\n",
       "        vertical-align: middle;\n",
       "    }\n",
       "\n",
       "    .dataframe tbody tr th {\n",
       "        vertical-align: top;\n",
       "    }\n",
       "\n",
       "    .dataframe thead th {\n",
       "        text-align: right;\n",
       "    }\n",
       "</style>\n",
       "<table border=\"1\" class=\"dataframe\">\n",
       "  <thead>\n",
       "    <tr style=\"text-align: right;\">\n",
       "      <th></th>\n",
       "      <th>Unnamed: 0</th>\n",
       "      <th>user_id</th>\n",
       "      <th>bot_text</th>\n",
       "      <th>cust_text</th>\n",
       "      <th>trim_bot_txt</th>\n",
       "      <th>corrected_cust</th>\n",
       "      <th>corrected_bot</th>\n",
       "      <th>corrected_bot1</th>\n",
       "      <th>corrected_bots_sents</th>\n",
       "      <th>bots_templ_list</th>\n",
       "      <th>u_id_shift</th>\n",
       "      <th>corrected_bot1_shift</th>\n",
       "      <th>bots_templ_list_shift</th>\n",
       "    </tr>\n",
       "  </thead>\n",
       "  <tbody>\n",
       "    <tr>\n",
       "      <th>7755</th>\n",
       "      <td>7755</td>\n",
       "      <td>2070619029</td>\n",
       "      <td>leaving from homestead . did i get that righ...</td>\n",
       "      <td>far</td>\n",
       "      <td>leaving from homestead . did i get that righ...</td>\n",
       "      <td>far</td>\n",
       "      <td>leaving from  place_name  . did i get that  ...</td>\n",
       "      <td>leaving from  placename    sep_sent did i get...</td>\n",
       "      <td>[ leaving from  placename    ,  did i get that...</td>\n",
       "      <td>templ_535 templ_1206</td>\n",
       "      <td>2.070619e+09</td>\n",
       "      <td>for example you can say  placename   placename...</td>\n",
       "      <td>templ_1029</td>\n",
       "    </tr>\n",
       "    <tr>\n",
       "      <th>7756</th>\n",
       "      <td>7756</td>\n",
       "      <td>2070619029</td>\n",
       "      <td>for example, you can say, mckeesport, murray ...</td>\n",
       "      <td>mckeesport</td>\n",
       "      <td>for example, you can say, mckeesport, murray ...</td>\n",
       "      <td>place_name</td>\n",
       "      <td>for example, you can say,  place_name   place...</td>\n",
       "      <td>for example you can say  placename   placename...</td>\n",
       "      <td>[for example you can say  placename   placenam...</td>\n",
       "      <td>templ_1029</td>\n",
       "      <td>2.070619e+09</td>\n",
       "      <td>going to  placename    sep_sent did i get tha...</td>\n",
       "      <td>templ_868 templ_1343</td>\n",
       "    </tr>\n",
       "    <tr>\n",
       "      <th>7757</th>\n",
       "      <td>7757</td>\n",
       "      <td>2070619029</td>\n",
       "      <td>going to mckeesport . did i get that right?</td>\n",
       "      <td>yes</td>\n",
       "      <td>going to mckeesport . did i get that right?</td>\n",
       "      <td>yes</td>\n",
       "      <td>going to  place_name  . did i get that  plac...</td>\n",
       "      <td>going to  placename    sep_sent did i get tha...</td>\n",
       "      <td>[ going to  placename    ,  did i get that  pl...</td>\n",
       "      <td>templ_868 templ_1343</td>\n",
       "      <td>2.070619e+09</td>\n",
       "      <td>going to  placename    sep_sent did i get tha...</td>\n",
       "      <td>templ_868 templ_745</td>\n",
       "    </tr>\n",
       "    <tr>\n",
       "      <th>7758</th>\n",
       "      <td>7758</td>\n",
       "      <td>2070619029</td>\n",
       "      <td>going to mckeesport . did i get that right? ...</td>\n",
       "      <td>next bus</td>\n",
       "      <td>going to mckeesport . did i get that right? ...</td>\n",
       "      <td>next bus</td>\n",
       "      <td>going to  place_name  . did i get that  plac...</td>\n",
       "      <td>going to  placename    sep_sent did i get tha...</td>\n",
       "      <td>[ going to  placename    ,  did i get that  pl...</td>\n",
       "      <td>templ_868 templ_745</td>\n",
       "      <td>2.070619e+09</td>\n",
       "      <td>i think you  placename  the next bus   sep_se...</td>\n",
       "      <td>templ_965 templ_78</td>\n",
       "    </tr>\n",
       "    <tr>\n",
       "      <th>7759</th>\n",
       "      <td>7759</td>\n",
       "      <td>2070619029</td>\n",
       "      <td>i think you want the next bus . am i right?</td>\n",
       "      <td>yes</td>\n",
       "      <td>i think you want the next bus . am i right?</td>\n",
       "      <td>yes</td>\n",
       "      <td>i think you  place_name  the next bus . am i...</td>\n",
       "      <td>i think you  placename  the next bus   sep_se...</td>\n",
       "      <td>[ i think you  placename  the next bus   ,  am...</td>\n",
       "      <td>templ_965 templ_78</td>\n",
       "      <td>NaN</td>\n",
       "      <td>end_of_chat</td>\n",
       "      <td>end_of_chat</td>\n",
       "    </tr>\n",
       "  </tbody>\n",
       "</table>\n",
       "</div>"
      ],
      "text/plain": [
       "      Unnamed: 0     user_id  \\\n",
       "7755        7755  2070619029   \n",
       "7756        7756  2070619029   \n",
       "7757        7757  2070619029   \n",
       "7758        7758  2070619029   \n",
       "7759        7759  2070619029   \n",
       "\n",
       "                                               bot_text   cust_text  \\\n",
       "7755    leaving from homestead . did i get that righ...         far   \n",
       "7756   for example, you can say, mckeesport, murray ...  mckeesport   \n",
       "7757        going to mckeesport . did i get that right?         yes   \n",
       "7758    going to mckeesport . did i get that right? ...    next bus   \n",
       "7759        i think you want the next bus . am i right?         yes   \n",
       "\n",
       "                                           trim_bot_txt corrected_cust  \\\n",
       "7755    leaving from homestead . did i get that righ...            far   \n",
       "7756   for example, you can say, mckeesport, murray ...    place_name    \n",
       "7757        going to mckeesport . did i get that right?            yes   \n",
       "7758    going to mckeesport . did i get that right? ...       next bus   \n",
       "7759        i think you want the next bus . am i right?            yes   \n",
       "\n",
       "                                          corrected_bot  \\\n",
       "7755    leaving from  place_name  . did i get that  ...   \n",
       "7756   for example, you can say,  place_name   place...   \n",
       "7757    going to  place_name  . did i get that  plac...   \n",
       "7758    going to  place_name  . did i get that  plac...   \n",
       "7759    i think you  place_name  the next bus . am i...   \n",
       "\n",
       "                                         corrected_bot1  \\\n",
       "7755   leaving from  placename    sep_sent did i get...   \n",
       "7756  for example you can say  placename   placename...   \n",
       "7757   going to  placename    sep_sent did i get tha...   \n",
       "7758   going to  placename    sep_sent did i get tha...   \n",
       "7759   i think you  placename  the next bus   sep_se...   \n",
       "\n",
       "                                   corrected_bots_sents  \\\n",
       "7755  [ leaving from  placename    ,  did i get that...   \n",
       "7756  [for example you can say  placename   placenam...   \n",
       "7757  [ going to  placename    ,  did i get that  pl...   \n",
       "7758  [ going to  placename    ,  did i get that  pl...   \n",
       "7759  [ i think you  placename  the next bus   ,  am...   \n",
       "\n",
       "            bots_templ_list    u_id_shift  \\\n",
       "7755   templ_535 templ_1206  2.070619e+09   \n",
       "7756             templ_1029  2.070619e+09   \n",
       "7757   templ_868 templ_1343  2.070619e+09   \n",
       "7758    templ_868 templ_745  2.070619e+09   \n",
       "7759     templ_965 templ_78           NaN   \n",
       "\n",
       "                                   corrected_bot1_shift  bots_templ_list_shift  \n",
       "7755  for example you can say  placename   placename...             templ_1029  \n",
       "7756   going to  placename    sep_sent did i get tha...   templ_868 templ_1343  \n",
       "7757   going to  placename    sep_sent did i get tha...    templ_868 templ_745  \n",
       "7758   i think you  placename  the next bus   sep_se...     templ_965 templ_78  \n",
       "7759                                        end_of_chat            end_of_chat  "
      ]
     },
     "execution_count": 55,
     "metadata": {},
     "output_type": "execute_result"
    }
   ],
   "source": [
    "t4.tail()"
   ]
  },
  {
   "cell_type": "markdown",
   "metadata": {},
   "source": [
    "Our training set is like bot asks a question and the customer says the answer. But for training our input would be customer sentence and the response from the bot as the output. So we will shift our “corrected_bot1” to one sentence after. That way the corpus becomes incoming customer text and the right output from the bot. We are shifting the user_id to mark the end of  the chat"
   ]
  },
  {
   "cell_type": "code",
   "execution_count": 56,
   "metadata": {},
   "outputs": [
    {
     "data": {
      "text/html": [
       "<div>\n",
       "<style scoped>\n",
       "    .dataframe tbody tr th:only-of-type {\n",
       "        vertical-align: middle;\n",
       "    }\n",
       "\n",
       "    .dataframe tbody tr th {\n",
       "        vertical-align: top;\n",
       "    }\n",
       "\n",
       "    .dataframe thead th {\n",
       "        text-align: right;\n",
       "    }\n",
       "</style>\n",
       "<table border=\"1\" class=\"dataframe\">\n",
       "  <thead>\n",
       "    <tr style=\"text-align: right;\">\n",
       "      <th></th>\n",
       "      <th>user_id</th>\n",
       "      <th>corrected_cust</th>\n",
       "      <th>corrected_bot1_shift</th>\n",
       "      <th>bots_templ_list_shift</th>\n",
       "    </tr>\n",
       "  </thead>\n",
       "  <tbody>\n",
       "    <tr>\n",
       "      <th>7755</th>\n",
       "      <td>2070619029</td>\n",
       "      <td>far</td>\n",
       "      <td>for example you can say  placename   placename...</td>\n",
       "      <td>templ_1029</td>\n",
       "    </tr>\n",
       "    <tr>\n",
       "      <th>7756</th>\n",
       "      <td>2070619029</td>\n",
       "      <td>place_name</td>\n",
       "      <td>going to  placename    sep_sent did i get tha...</td>\n",
       "      <td>templ_868 templ_1343</td>\n",
       "    </tr>\n",
       "    <tr>\n",
       "      <th>7757</th>\n",
       "      <td>2070619029</td>\n",
       "      <td>yes</td>\n",
       "      <td>going to  placename    sep_sent did i get tha...</td>\n",
       "      <td>templ_868 templ_745</td>\n",
       "    </tr>\n",
       "    <tr>\n",
       "      <th>7758</th>\n",
       "      <td>2070619029</td>\n",
       "      <td>next bus</td>\n",
       "      <td>i think you  placename  the next bus   sep_se...</td>\n",
       "      <td>templ_965 templ_78</td>\n",
       "    </tr>\n",
       "    <tr>\n",
       "      <th>7759</th>\n",
       "      <td>2070619029</td>\n",
       "      <td>yes</td>\n",
       "      <td>end_of_chat</td>\n",
       "      <td>end_of_chat</td>\n",
       "    </tr>\n",
       "  </tbody>\n",
       "</table>\n",
       "</div>"
      ],
      "text/plain": [
       "         user_id corrected_cust  \\\n",
       "7755  2070619029            far   \n",
       "7756  2070619029    place_name    \n",
       "7757  2070619029            yes   \n",
       "7758  2070619029       next bus   \n",
       "7759  2070619029            yes   \n",
       "\n",
       "                                   corrected_bot1_shift  bots_templ_list_shift  \n",
       "7755  for example you can say  placename   placename...             templ_1029  \n",
       "7756   going to  placename    sep_sent did i get tha...   templ_868 templ_1343  \n",
       "7757   going to  placename    sep_sent did i get tha...    templ_868 templ_745  \n",
       "7758   i think you  placename  the next bus   sep_se...     templ_965 templ_78  \n",
       "7759                                        end_of_chat            end_of_chat  "
      ]
     },
     "execution_count": 56,
     "metadata": {},
     "output_type": "execute_result"
    }
   ],
   "source": [
    "t4[\"u_id_shift\"] = t4[\"user_id\"].shift(-1)\n",
    "t4[\"corrected_bot1_shift\"] = t4[\"corrected_bot1\"].shift(-1)\n",
    "t4[\"bots_templ_list_shift\"] = t4[\"bots_templ_list\"].shift(-1)\n",
    "\n",
    "t4.loc[t4.u_id_shift!=t3.user_id,\"corrected_bot1_shift\"] = \"end_of_chat\"\n",
    "t4.loc[t4.u_id_shift!=t3.user_id,\"bots_templ_list_shift\"] = \"end_of_chat\"\n",
    "\n",
    "req_cols = [\"user_id\",\"corrected_cust\",\"corrected_bot1_shift\",\"bots_templ_list_shift\"]\n",
    "t5 = t4[req_cols]\n",
    "\n",
    "t5.tail()"
   ]
  },
  {
   "cell_type": "code",
   "execution_count": null,
   "metadata": {},
   "outputs": [],
   "source": []
  },
  {
   "cell_type": "markdown",
   "metadata": {},
   "source": [
    "Save the processed dataset"
   ]
  },
  {
   "cell_type": "code",
   "execution_count": 68,
   "metadata": {},
   "outputs": [],
   "source": [
    "t5.to_csv(\"lets_go_model_set1.csv\")"
   ]
  },
  {
   "cell_type": "markdown",
   "metadata": {},
   "source": [
    "We are now pickling the output of dictionary “df_sents” for mapping the templates to original sentences. In the encoder we would use “template_ids” for output. Then we remap using the dictionary to prin the actual sentences"
   ]
  },
  {
   "cell_type": "code",
   "execution_count": 54,
   "metadata": {},
   "outputs": [],
   "source": [
    "import pickle\n",
    "output = open('dict_templ.pkl', 'wb')\n",
    "\n",
    "# Pickle dictionary using protocol 0.\n",
    "pickle.dump(df_sents, output)"
   ]
  },
  {
   "cell_type": "code",
   "execution_count": null,
   "metadata": {},
   "outputs": [],
   "source": []
  }
 ],
 "metadata": {
  "kernelspec": {
   "display_name": "Python [conda env:Anaconda2-py36]",
   "language": "python",
   "name": "conda-env-Anaconda2-py36-py"
  },
  "language_info": {
   "codemirror_mode": {
    "name": "ipython",
    "version": 3
   },
   "file_extension": ".py",
   "mimetype": "text/x-python",
   "name": "python",
   "nbconvert_exporter": "python",
   "pygments_lexer": "ipython3",
   "version": "3.6.8"
  }
 },
 "nbformat": 4,
 "nbformat_minor": 2
}
